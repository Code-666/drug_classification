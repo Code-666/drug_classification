{
 "cells": [
  {
   "cell_type": "markdown",
   "id": "599b83e9",
   "metadata": {},
   "source": [
    "# ML Project - Drug Classification\n",
    "\n",
    "The point of this project is to try some machine learning techniques to predict the outcome of the drugs that might be accurate for a patient.\n",
    "\n",
    "\n"
   ]
  },
  {
   "cell_type": "markdown",
   "id": "25a7f500",
   "metadata": {},
   "source": [
    "## Data Preprocessing and EDA\n",
    "\n",
    "When building a machine learning model or algorithm, the data needs to be clean for better performance and I also want to investigate, visualize and analyze the data to gain insight on the data that I'm working with. \n"
   ]
  },
  {
   "cell_type": "code",
   "execution_count": 414,
   "id": "18797941",
   "metadata": {},
   "outputs": [],
   "source": [
    "# Now first I have to import all the needed imports\n",
    "import numpy as np\n",
    "import pandas as pd\n",
    "import matplotlib.pyplot as plt\n",
    "import seaborn as sns"
   ]
  },
  {
   "cell_type": "code",
   "execution_count": 415,
   "id": "6c6f2a75",
   "metadata": {},
   "outputs": [],
   "source": [
    "# then I load the data that I'll be using\n",
    "drug = pd.read_csv('drug200.csv')"
   ]
  },
  {
   "cell_type": "code",
   "execution_count": 416,
   "id": "1e7cfaa7",
   "metadata": {
    "scrolled": true
   },
   "outputs": [
    {
     "data": {
      "text/html": [
       "<div>\n",
       "<style scoped>\n",
       "    .dataframe tbody tr th:only-of-type {\n",
       "        vertical-align: middle;\n",
       "    }\n",
       "\n",
       "    .dataframe tbody tr th {\n",
       "        vertical-align: top;\n",
       "    }\n",
       "\n",
       "    .dataframe thead th {\n",
       "        text-align: right;\n",
       "    }\n",
       "</style>\n",
       "<table border=\"1\" class=\"dataframe\">\n",
       "  <thead>\n",
       "    <tr style=\"text-align: right;\">\n",
       "      <th></th>\n",
       "      <th>Age</th>\n",
       "      <th>Sex</th>\n",
       "      <th>BP</th>\n",
       "      <th>Cholesterol</th>\n",
       "      <th>Na_to_K</th>\n",
       "      <th>Drug</th>\n",
       "    </tr>\n",
       "  </thead>\n",
       "  <tbody>\n",
       "    <tr>\n",
       "      <th>0</th>\n",
       "      <td>23</td>\n",
       "      <td>F</td>\n",
       "      <td>HIGH</td>\n",
       "      <td>HIGH</td>\n",
       "      <td>25.355</td>\n",
       "      <td>DrugY</td>\n",
       "    </tr>\n",
       "    <tr>\n",
       "      <th>1</th>\n",
       "      <td>47</td>\n",
       "      <td>M</td>\n",
       "      <td>LOW</td>\n",
       "      <td>HIGH</td>\n",
       "      <td>13.093</td>\n",
       "      <td>drugC</td>\n",
       "    </tr>\n",
       "    <tr>\n",
       "      <th>2</th>\n",
       "      <td>47</td>\n",
       "      <td>M</td>\n",
       "      <td>LOW</td>\n",
       "      <td>HIGH</td>\n",
       "      <td>10.114</td>\n",
       "      <td>drugC</td>\n",
       "    </tr>\n",
       "    <tr>\n",
       "      <th>3</th>\n",
       "      <td>28</td>\n",
       "      <td>F</td>\n",
       "      <td>NORMAL</td>\n",
       "      <td>HIGH</td>\n",
       "      <td>7.798</td>\n",
       "      <td>drugX</td>\n",
       "    </tr>\n",
       "    <tr>\n",
       "      <th>4</th>\n",
       "      <td>61</td>\n",
       "      <td>F</td>\n",
       "      <td>LOW</td>\n",
       "      <td>HIGH</td>\n",
       "      <td>18.043</td>\n",
       "      <td>DrugY</td>\n",
       "    </tr>\n",
       "  </tbody>\n",
       "</table>\n",
       "</div>"
      ],
      "text/plain": [
       "   Age Sex      BP Cholesterol  Na_to_K   Drug\n",
       "0   23   F    HIGH        HIGH   25.355  DrugY\n",
       "1   47   M     LOW        HIGH   13.093  drugC\n",
       "2   47   M     LOW        HIGH   10.114  drugC\n",
       "3   28   F  NORMAL        HIGH    7.798  drugX\n",
       "4   61   F     LOW        HIGH   18.043  DrugY"
      ]
     },
     "execution_count": 416,
     "metadata": {},
     "output_type": "execute_result"
    }
   ],
   "source": [
    "# Let's just check if the load-in worked fine\n",
    "drug.head()"
   ]
  },
  {
   "cell_type": "markdown",
   "id": "a8c8ebe1",
   "metadata": {},
   "source": [
    "Load-in worked well."
   ]
  },
  {
   "cell_type": "code",
   "execution_count": 417,
   "id": "1381c87f",
   "metadata": {},
   "outputs": [
    {
     "name": "stdout",
     "output_type": "stream",
     "text": [
      "(200, 6)\n"
     ]
    }
   ],
   "source": [
    "# looking at the shape of the data\n",
    "print(drug.shape)\n"
   ]
  },
  {
   "cell_type": "code",
   "execution_count": 418,
   "id": "e9d7c046",
   "metadata": {
    "scrolled": false
   },
   "outputs": [
    {
     "name": "stdout",
     "output_type": "stream",
     "text": [
      "<class 'pandas.core.frame.DataFrame'>\n",
      "RangeIndex: 200 entries, 0 to 199\n",
      "Data columns (total 6 columns):\n",
      " #   Column       Non-Null Count  Dtype  \n",
      "---  ------       --------------  -----  \n",
      " 0   Age          200 non-null    int64  \n",
      " 1   Sex          200 non-null    object \n",
      " 2   BP           200 non-null    object \n",
      " 3   Cholesterol  200 non-null    object \n",
      " 4   Na_to_K      200 non-null    float64\n",
      " 5   Drug         200 non-null    object \n",
      "dtypes: float64(1), int64(1), object(4)\n",
      "memory usage: 9.5+ KB\n"
     ]
    }
   ],
   "source": [
    "# exploring the structure, colmuns, non-null count and dtypes with \".info()\"\n",
    "drug.info()"
   ]
  },
  {
   "cell_type": "code",
   "execution_count": 419,
   "id": "71540292",
   "metadata": {
    "scrolled": true
   },
   "outputs": [
    {
     "data": {
      "text/html": [
       "<div>\n",
       "<style scoped>\n",
       "    .dataframe tbody tr th:only-of-type {\n",
       "        vertical-align: middle;\n",
       "    }\n",
       "\n",
       "    .dataframe tbody tr th {\n",
       "        vertical-align: top;\n",
       "    }\n",
       "\n",
       "    .dataframe thead th {\n",
       "        text-align: right;\n",
       "    }\n",
       "</style>\n",
       "<table border=\"1\" class=\"dataframe\">\n",
       "  <thead>\n",
       "    <tr style=\"text-align: right;\">\n",
       "      <th></th>\n",
       "      <th>Age</th>\n",
       "      <th>Na_to_K</th>\n",
       "    </tr>\n",
       "  </thead>\n",
       "  <tbody>\n",
       "    <tr>\n",
       "      <th>count</th>\n",
       "      <td>200.000000</td>\n",
       "      <td>200.000000</td>\n",
       "    </tr>\n",
       "    <tr>\n",
       "      <th>mean</th>\n",
       "      <td>44.315000</td>\n",
       "      <td>16.084485</td>\n",
       "    </tr>\n",
       "    <tr>\n",
       "      <th>std</th>\n",
       "      <td>16.544315</td>\n",
       "      <td>7.223956</td>\n",
       "    </tr>\n",
       "    <tr>\n",
       "      <th>min</th>\n",
       "      <td>15.000000</td>\n",
       "      <td>6.269000</td>\n",
       "    </tr>\n",
       "    <tr>\n",
       "      <th>25%</th>\n",
       "      <td>31.000000</td>\n",
       "      <td>10.445500</td>\n",
       "    </tr>\n",
       "    <tr>\n",
       "      <th>50%</th>\n",
       "      <td>45.000000</td>\n",
       "      <td>13.936500</td>\n",
       "    </tr>\n",
       "    <tr>\n",
       "      <th>75%</th>\n",
       "      <td>58.000000</td>\n",
       "      <td>19.380000</td>\n",
       "    </tr>\n",
       "    <tr>\n",
       "      <th>max</th>\n",
       "      <td>74.000000</td>\n",
       "      <td>38.247000</td>\n",
       "    </tr>\n",
       "  </tbody>\n",
       "</table>\n",
       "</div>"
      ],
      "text/plain": [
       "              Age     Na_to_K\n",
       "count  200.000000  200.000000\n",
       "mean    44.315000   16.084485\n",
       "std     16.544315    7.223956\n",
       "min     15.000000    6.269000\n",
       "25%     31.000000   10.445500\n",
       "50%     45.000000   13.936500\n",
       "75%     58.000000   19.380000\n",
       "max     74.000000   38.247000"
      ]
     },
     "execution_count": 419,
     "metadata": {},
     "output_type": "execute_result"
    }
   ],
   "source": [
    "# exploring numeric statistics\n",
    "drug.describe()"
   ]
  },
  {
   "cell_type": "markdown",
   "id": "7c8d35cd",
   "metadata": {},
   "source": [
    "Doesn't look out of the ordinary, on the face of it. The count is 200 for both, which indicates there are no missing values. "
   ]
  },
  {
   "cell_type": "code",
   "execution_count": 420,
   "id": "7fed74b4",
   "metadata": {
    "scrolled": true
   },
   "outputs": [
    {
     "data": {
      "text/plain": [
       "Age            0\n",
       "Sex            0\n",
       "BP             0\n",
       "Cholesterol    0\n",
       "Na_to_K        0\n",
       "Drug           0\n",
       "dtype: int64"
      ]
     },
     "execution_count": 420,
     "metadata": {},
     "output_type": "execute_result"
    }
   ],
   "source": [
    "# exlporing null-values in more detail\n",
    "drug.isnull().sum()"
   ]
  },
  {
   "cell_type": "markdown",
   "id": "1474f7a8",
   "metadata": {},
   "source": [
    "After some initial exploration with info, describe etc...\n",
    "\n",
    "I've concluded that:\n",
    "- In total 6 columns\n",
    "- 2 of them are numerical features\n",
    "- 4 of them are categorical features.\n",
    "- There are no null values"
   ]
  },
  {
   "cell_type": "markdown",
   "id": "51aa527c",
   "metadata": {},
   "source": [
    "### visualization"
   ]
  },
  {
   "cell_type": "code",
   "execution_count": 421,
   "id": "84e8eb62",
   "metadata": {},
   "outputs": [
    {
     "data": {
      "image/png": "[encoded data removed]",
      "text/plain": [
       "<Figure size 640x480 with 1 Axes>"
      ]
     },
     "metadata": {},
     "output_type": "display_data"
    }
   ],
   "source": [
    "# Plot a histogram of the target variable\n",
    "sns.countplot(x='Drug', data=drug)\n",
    "plt.title('Distribution of Drugs')\n",
    "plt.show()"
   ]
  },
  {
   "cell_type": "code",
   "execution_count": 422,
   "id": "158d2271",
   "metadata": {},
   "outputs": [
    {
     "data": {
      "image/png": "[encoded data removed]",
      "text/plain": [
       "<Figure size 640x480 with 1 Axes>"
      ]
     },
     "metadata": {},
     "output_type": "display_data"
    }
   ],
   "source": [
    "# Plot a boxplot of age distribution\n",
    "sns.boxplot(x='Age', data=drug)\n",
    "plt.show()"
   ]
  },
  {
   "cell_type": "code",
   "execution_count": 423,
   "id": "4141747b",
   "metadata": {},
   "outputs": [
    {
     "data": {
      "image/png": "[encoded data removed]",
      "text/plain": [
       "<Figure size 640x480 with 1 Axes>"
      ]
     },
     "metadata": {},
     "output_type": "display_data"
    }
   ],
   "source": [
    "# Create Sex bar plot\n",
    "sns.countplot(x='Sex', data=drug)\n",
    "plt.show()"
   ]
  },
  {
   "cell_type": "code",
   "execution_count": 424,
   "id": "c336a727",
   "metadata": {},
   "outputs": [
    {
     "data": {
      "image/png": "[encoded data removed]",
      "text/plain": [
       "<Figure size 640x480 with 1 Axes>"
      ]
     },
     "metadata": {},
     "output_type": "display_data"
    }
   ],
   "source": [
    "# Create BP bar plot\n",
    "sns.countplot(x='BP', data=drug)\n",
    "plt.show()"
   ]
  },
  {
   "cell_type": "code",
   "execution_count": 425,
   "id": "e6e89d06",
   "metadata": {},
   "outputs": [
    {
     "data": {
      "image/png": "[encoded data removed]",
      "text/plain": [
       "<Figure size 640x480 with 1 Axes>"
      ]
     },
     "metadata": {},
     "output_type": "display_data"
    }
   ],
   "source": [
    "# Create Cholesterol bar plot\n",
    "sns.countplot(x='Cholesterol', data=drug)\n",
    "plt.show()"
   ]
  },
  {
   "cell_type": "code",
   "execution_count": 426,
   "id": "4e9d6123",
   "metadata": {},
   "outputs": [
    {
     "data": {
      "image/png": "[encoded data removed]",
      "text/plain": [
       "<Figure size 640x480 with 1 Axes>"
      ]
     },
     "metadata": {},
     "output_type": "display_data"
    }
   ],
   "source": [
    "# Plot a boxplot of sodium-to-potassium ratio distribution\n",
    "sns.boxplot(x='Na_to_K', data=drug)\n",
    "plt.show()"
   ]
  },
  {
   "cell_type": "markdown",
   "id": "073ab8e0",
   "metadata": {},
   "source": [
    "**Note**\n",
    "- It looks like there are potential ouliers, I'll investigtte that further"
   ]
  },
  {
   "cell_type": "markdown",
   "id": "282de5c7",
   "metadata": {},
   "source": []
  },
  {
   "cell_type": "code",
   "execution_count": 427,
   "id": "dcf52b69",
   "metadata": {},
   "outputs": [
    {
     "name": "stderr",
     "output_type": "stream",
     "text": [
      "C:\\Users\\HP\\AppData\\Local\\Temp\\ipykernel_14888\\3532976621.py:2: FutureWarning: The default value of numeric_only in DataFrame.corr is deprecated. In a future version, it will default to False. Select only valid columns or specify the value of numeric_only to silence this warning.\n",
      "  correlation_matrix = drug.corr()\n"
     ]
    },
    {
     "data": {
      "image/png": "[encoded data removed]",
      "text/plain": [
       "<Figure size 640x480 with 2 Axes>"
      ]
     },
     "metadata": {},
     "output_type": "display_data"
    }
   ],
   "source": [
    "# Correlation heatmap on numerical values\n",
    "correlation_matrix = drug.corr()\n",
    "sns.heatmap(correlation_matrix, annot=True, cmap='coolwarm')\n",
    "plt.title('Correlation Heatmap')\n",
    "plt.show() "
   ]
  },
  {
   "cell_type": "markdown",
   "id": "45e8768c",
   "metadata": {},
   "source": [
    "Seems to be weak correlation between Age and Na_to_K"
   ]
  },
  {
   "cell_type": "code",
   "execution_count": 428,
   "id": "7c317769",
   "metadata": {},
   "outputs": [
    {
     "data": {
      "image/png": "[encoded data removed]",
      "text/plain": [
       "<Figure size 492.5x400 with 6 Axes>"
      ]
     },
     "metadata": {},
     "output_type": "display_data"
    }
   ],
   "source": [
    "# pairplot on numerical values\n",
    "sns.pairplot(drug, hue=\"Drug\", height=2)\n",
    "plt.show()"
   ]
  },
  {
   "cell_type": "code",
   "execution_count": 429,
   "id": "732f661b",
   "metadata": {
    "scrolled": false
   },
   "outputs": [
    {
     "data": {
      "image/png": "[encoded data removed]",
      "text/plain": [
       "<Figure size 640x480 with 1 Axes>"
      ]
     },
     "metadata": {},
     "output_type": "display_data"
    },
    {
     "data": {
      "image/png": "[encoded data removed]",
      "text/plain": [
       "<Figure size 640x480 with 1 Axes>"
      ]
     },
     "metadata": {},
     "output_type": "display_data"
    },
    {
     "data": {
      "image/png": "[encoded data removed]",
      "text/plain": [
       "<Figure size 640x480 with 1 Axes>"
      ]
     },
     "metadata": {},
     "output_type": "display_data"
    }
   ],
   "source": [
    "# Plot a boxplot of sodium-to-potassium ratio and Sex features\n",
    "sns.boxplot(x='Na_to_K', y='Sex', data=drug)\n",
    "plt.show()\n",
    "\n",
    "# Plot a boxplot of sodium-to-potassium ratio and BP features\n",
    "sns.boxplot(x='Na_to_K', y='BP', data=drug)\n",
    "plt.show()\n",
    "\n",
    "# Plot a boxplot of sodium-to-potassium ratio and Cholesterol features\n",
    "sns.boxplot(x='Na_to_K', y='Cholesterol', data=drug)\n",
    "plt.show()"
   ]
  },
  {
   "cell_type": "markdown",
   "id": "bfd4a1a4",
   "metadata": {},
   "source": [
    "I would like to handle these ouliers. I will do that next."
   ]
  },
  {
   "cell_type": "code",
   "execution_count": 430,
   "id": "b3508f59",
   "metadata": {
    "scrolled": true
   },
   "outputs": [
    {
     "name": "stdout",
     "output_type": "stream",
     "text": [
      "     Age Sex      BP Cholesterol  Na_to_K   Drug\n",
      "0     23   F    HIGH        HIGH   25.355  DrugY\n",
      "1     47   M     LOW        HIGH   13.093  drugC\n",
      "2     47   M     LOW        HIGH   10.114  drugC\n",
      "3     28   F  NORMAL        HIGH    7.798  drugX\n",
      "4     61   F     LOW        HIGH   18.043  DrugY\n",
      "..   ...  ..     ...         ...      ...    ...\n",
      "187   56   F     LOW        HIGH   11.567  drugC\n",
      "188   16   M     LOW        HIGH   12.006  drugC\n",
      "189   52   M  NORMAL        HIGH    9.894  drugX\n",
      "190   23   M  NORMAL      NORMAL   14.020  drugX\n",
      "191   40   F     LOW      NORMAL   11.349  drugX\n",
      "\n",
      "[192 rows x 6 columns]\n"
     ]
    }
   ],
   "source": [
    "# Calculate quartiles and IQR for the 'Na_to_K' variable\n",
    "Q1 = drug['Na_to_K'].quantile(0.25)\n",
    "Q3 = drug['Na_to_K'].quantile(0.75)\n",
    "IQR = Q3 - Q1\n",
    "\n",
    "# Calculate lower and upper bounds for outliers\n",
    "lower_bound = Q1 - (1.5 * IQR)\n",
    "upper_bound = Q3 + (1.5 * IQR)\n",
    "\n",
    "# Identify outliers in the 'Na_to_K' variable\n",
    "outliers = drug[(drug['Na_to_K'] < lower_bound) | (drug['Na_to_K'] > upper_bound)]\n",
    "\n",
    "# Remove the outliers from the DataFrame\n",
    "drug = drug.drop(outliers.index)\n",
    "\n",
    "# Reset the index of the DataFrame\n",
    "drug = drug.reset_index(drop=True)\n",
    "\n",
    "# Print the updated DataFrame without outliers\n",
    "print(drug)"
   ]
  },
  {
   "cell_type": "code",
   "execution_count": 431,
   "id": "9834e8fd",
   "metadata": {},
   "outputs": [
    {
     "name": "stdout",
     "output_type": "stream",
     "text": [
      "   Age Sex      BP Cholesterol  Na_to_K   Drug AgeGroup\n",
      "0   23   F    HIGH        HIGH   25.355  DrugY    18-30\n",
      "1   47   M     LOW        HIGH   13.093  drugC    45-60\n",
      "2   47   M     LOW        HIGH   10.114  drugC    45-60\n",
      "3   28   F  NORMAL        HIGH    7.798  drugX    18-30\n",
      "4   61   F     LOW        HIGH   18.043  DrugY      60+\n"
     ]
    }
   ],
   "source": [
    "# Define the bin edges for age groups\n",
    "bin_edges = [0, 18, 30, 45, 60, float('inf')]\n",
    "\n",
    "# Define the labels for the age groups\n",
    "bin_labels = ['<18', '18-30', '30-45', '45-60', '60+']\n",
    "\n",
    "# Create the 'AgeGroup' column by binning the 'Age' variable\n",
    "drug['AgeGroup'] = pd.cut(drug['Age'], bins=bin_edges, labels=bin_labels, right=False)\n",
    "\n",
    "# Display the updated DataFrame\n",
    "print(drug.head())"
   ]
  },
  {
   "cell_type": "code",
   "execution_count": 432,
   "id": "86ffbf7c",
   "metadata": {},
   "outputs": [
    {
     "name": "stderr",
     "output_type": "stream",
     "text": [
      "C:\\Users\\HP\\anaconda3\\lib\\site-packages\\sklearn\\preprocessing\\_encoders.py:828: FutureWarning: `sparse` was renamed to `sparse_output` in version 1.2 and will be removed in 1.4. `sparse_output` is ignored unless you leave `sparse` to its default value.\n",
      "  warnings.warn(\n"
     ]
    }
   ],
   "source": [
    "# Change the categorical variable to numbers through encoding\n",
    "\n",
    "# import encoders from sklearn\n",
    "from sklearn.preprocessing import LabelEncoder, OneHotEncoder, OrdinalEncoder\n",
    "\n",
    "# I used a OrdinalEncoder on the Blood Pressure feature, since it has the categories LOW, NORMAL and HIGH\n",
    "encoder = OrdinalEncoder(categories=[['LOW', 'NORMAL', 'HIGH']])\n",
    "encoder.fit(drug[['BP']])\n",
    "encoded_values = encoder.transform(drug[['BP']])\n",
    "drug['BP'] = encoded_values\n",
    "\n",
    "# I also used a OrdinalEncoder on the Cholesterol feature, since it has the categories NORMAL and HIGH\n",
    "encoder = OrdinalEncoder(categories=[['NORMAL', 'HIGH']])\n",
    "encoder.fit(drug[['Cholesterol']])\n",
    "encoded_values = encoder.transform(drug[['Cholesterol']])\n",
    "drug['Cholesterol'] = encoded_values\n",
    "\n",
    "# Then I used a OneHotEncoder the Sex feature, since it has only two categories and therefor don't create tons of new features\n",
    "encoder = OneHotEncoder(sparse=False)\n",
    "encoded_values = encoder.fit_transform(drug[['Sex']])\n",
    "drug['Sex'] = encoded_values\n",
    "\n",
    "# Then I used a LabelEncoder for the AgeGroup feature\n",
    "label_encoder = LabelEncoder()\n",
    "drug['AgeGroup'] = label_encoder.fit_transform(drug['AgeGroup'])\n",
    "\n",
    "# Then in the end I used a LabelEncoder for the target\n",
    "label_encoder = LabelEncoder()\n",
    "drug['Drug'] = label_encoder.fit_transform(drug['Drug'])"
   ]
  },
  {
   "cell_type": "code",
   "execution_count": 433,
   "id": "00937b3d",
   "metadata": {},
   "outputs": [
    {
     "data": {
      "text/html": [
       "<div>\n",
       "<style scoped>\n",
       "    .dataframe tbody tr th:only-of-type {\n",
       "        vertical-align: middle;\n",
       "    }\n",
       "\n",
       "    .dataframe tbody tr th {\n",
       "        vertical-align: top;\n",
       "    }\n",
       "\n",
       "    .dataframe thead th {\n",
       "        text-align: right;\n",
       "    }\n",
       "</style>\n",
       "<table border=\"1\" class=\"dataframe\">\n",
       "  <thead>\n",
       "    <tr style=\"text-align: right;\">\n",
       "      <th></th>\n",
       "      <th>Age</th>\n",
       "      <th>Sex</th>\n",
       "      <th>BP</th>\n",
       "      <th>Cholesterol</th>\n",
       "      <th>Na_to_K</th>\n",
       "      <th>Drug</th>\n",
       "      <th>AgeGroup</th>\n",
       "    </tr>\n",
       "  </thead>\n",
       "  <tbody>\n",
       "    <tr>\n",
       "      <th>0</th>\n",
       "      <td>23</td>\n",
       "      <td>1.0</td>\n",
       "      <td>2.0</td>\n",
       "      <td>1.0</td>\n",
       "      <td>25.355</td>\n",
       "      <td>0</td>\n",
       "      <td>0</td>\n",
       "    </tr>\n",
       "    <tr>\n",
       "      <th>1</th>\n",
       "      <td>47</td>\n",
       "      <td>0.0</td>\n",
       "      <td>0.0</td>\n",
       "      <td>1.0</td>\n",
       "      <td>13.093</td>\n",
       "      <td>3</td>\n",
       "      <td>2</td>\n",
       "    </tr>\n",
       "    <tr>\n",
       "      <th>2</th>\n",
       "      <td>47</td>\n",
       "      <td>0.0</td>\n",
       "      <td>0.0</td>\n",
       "      <td>1.0</td>\n",
       "      <td>10.114</td>\n",
       "      <td>3</td>\n",
       "      <td>2</td>\n",
       "    </tr>\n",
       "    <tr>\n",
       "      <th>3</th>\n",
       "      <td>28</td>\n",
       "      <td>1.0</td>\n",
       "      <td>1.0</td>\n",
       "      <td>1.0</td>\n",
       "      <td>7.798</td>\n",
       "      <td>4</td>\n",
       "      <td>0</td>\n",
       "    </tr>\n",
       "    <tr>\n",
       "      <th>4</th>\n",
       "      <td>61</td>\n",
       "      <td>1.0</td>\n",
       "      <td>0.0</td>\n",
       "      <td>1.0</td>\n",
       "      <td>18.043</td>\n",
       "      <td>0</td>\n",
       "      <td>3</td>\n",
       "    </tr>\n",
       "  </tbody>\n",
       "</table>\n",
       "</div>"
      ],
      "text/plain": [
       "   Age  Sex   BP  Cholesterol  Na_to_K  Drug  AgeGroup\n",
       "0   23  1.0  2.0          1.0   25.355     0         0\n",
       "1   47  0.0  0.0          1.0   13.093     3         2\n",
       "2   47  0.0  0.0          1.0   10.114     3         2\n",
       "3   28  1.0  1.0          1.0    7.798     4         0\n",
       "4   61  1.0  0.0          1.0   18.043     0         3"
      ]
     },
     "execution_count": 433,
     "metadata": {},
     "output_type": "execute_result"
    }
   ],
   "source": [
    "drug.head()"
   ]
  },
  {
   "cell_type": "code",
   "execution_count": 434,
   "id": "3d4aab68",
   "metadata": {},
   "outputs": [],
   "source": [
    "# seperate features and target\n",
    "X = drug.drop(columns=['Drug'])\n",
    "y = drug['Drug']"
   ]
  },
  {
   "cell_type": "code",
   "execution_count": 435,
   "id": "641a668d",
   "metadata": {},
   "outputs": [],
   "source": [
    "# Scale the data with StandardScaler\n",
    "from sklearn.preprocessing import StandardScaler\n",
    "\n",
    "scaler = StandardScaler()\n",
    "drug = pd.DataFrame(scaler.fit_transform(drug), columns=drug.columns)"
   ]
  },
  {
   "cell_type": "code",
   "execution_count": 436,
   "id": "1e766083",
   "metadata": {
    "scrolled": false
   },
   "outputs": [
    {
     "data": {
      "text/html": [
       "<div>\n",
       "<style scoped>\n",
       "    .dataframe tbody tr th:only-of-type {\n",
       "        vertical-align: middle;\n",
       "    }\n",
       "\n",
       "    .dataframe tbody tr th {\n",
       "        vertical-align: top;\n",
       "    }\n",
       "\n",
       "    .dataframe thead th {\n",
       "        text-align: right;\n",
       "    }\n",
       "</style>\n",
       "<table border=\"1\" class=\"dataframe\">\n",
       "  <thead>\n",
       "    <tr style=\"text-align: right;\">\n",
       "      <th></th>\n",
       "      <th>Age</th>\n",
       "      <th>Sex</th>\n",
       "      <th>BP</th>\n",
       "      <th>Cholesterol</th>\n",
       "      <th>Na_to_K</th>\n",
       "      <th>AgeGroup</th>\n",
       "    </tr>\n",
       "  </thead>\n",
       "  <tbody>\n",
       "    <tr>\n",
       "      <th>0</th>\n",
       "      <td>23</td>\n",
       "      <td>1.0</td>\n",
       "      <td>2.0</td>\n",
       "      <td>1.0</td>\n",
       "      <td>25.355</td>\n",
       "      <td>0</td>\n",
       "    </tr>\n",
       "    <tr>\n",
       "      <th>1</th>\n",
       "      <td>47</td>\n",
       "      <td>0.0</td>\n",
       "      <td>0.0</td>\n",
       "      <td>1.0</td>\n",
       "      <td>13.093</td>\n",
       "      <td>2</td>\n",
       "    </tr>\n",
       "    <tr>\n",
       "      <th>2</th>\n",
       "      <td>47</td>\n",
       "      <td>0.0</td>\n",
       "      <td>0.0</td>\n",
       "      <td>1.0</td>\n",
       "      <td>10.114</td>\n",
       "      <td>2</td>\n",
       "    </tr>\n",
       "    <tr>\n",
       "      <th>3</th>\n",
       "      <td>28</td>\n",
       "      <td>1.0</td>\n",
       "      <td>1.0</td>\n",
       "      <td>1.0</td>\n",
       "      <td>7.798</td>\n",
       "      <td>0</td>\n",
       "    </tr>\n",
       "    <tr>\n",
       "      <th>4</th>\n",
       "      <td>61</td>\n",
       "      <td>1.0</td>\n",
       "      <td>0.0</td>\n",
       "      <td>1.0</td>\n",
       "      <td>18.043</td>\n",
       "      <td>3</td>\n",
       "    </tr>\n",
       "    <tr>\n",
       "      <th>...</th>\n",
       "      <td>...</td>\n",
       "      <td>...</td>\n",
       "      <td>...</td>\n",
       "      <td>...</td>\n",
       "      <td>...</td>\n",
       "      <td>...</td>\n",
       "    </tr>\n",
       "    <tr>\n",
       "      <th>187</th>\n",
       "      <td>56</td>\n",
       "      <td>1.0</td>\n",
       "      <td>0.0</td>\n",
       "      <td>1.0</td>\n",
       "      <td>11.567</td>\n",
       "      <td>2</td>\n",
       "    </tr>\n",
       "    <tr>\n",
       "      <th>188</th>\n",
       "      <td>16</td>\n",
       "      <td>0.0</td>\n",
       "      <td>0.0</td>\n",
       "      <td>1.0</td>\n",
       "      <td>12.006</td>\n",
       "      <td>4</td>\n",
       "    </tr>\n",
       "    <tr>\n",
       "      <th>189</th>\n",
       "      <td>52</td>\n",
       "      <td>0.0</td>\n",
       "      <td>1.0</td>\n",
       "      <td>1.0</td>\n",
       "      <td>9.894</td>\n",
       "      <td>2</td>\n",
       "    </tr>\n",
       "    <tr>\n",
       "      <th>190</th>\n",
       "      <td>23</td>\n",
       "      <td>0.0</td>\n",
       "      <td>1.0</td>\n",
       "      <td>0.0</td>\n",
       "      <td>14.020</td>\n",
       "      <td>0</td>\n",
       "    </tr>\n",
       "    <tr>\n",
       "      <th>191</th>\n",
       "      <td>40</td>\n",
       "      <td>1.0</td>\n",
       "      <td>0.0</td>\n",
       "      <td>0.0</td>\n",
       "      <td>11.349</td>\n",
       "      <td>1</td>\n",
       "    </tr>\n",
       "  </tbody>\n",
       "</table>\n",
       "<p>192 rows × 6 columns</p>\n",
       "</div>"
      ],
      "text/plain": [
       "     Age  Sex   BP  Cholesterol  Na_to_K  AgeGroup\n",
       "0     23  1.0  2.0          1.0   25.355         0\n",
       "1     47  0.0  0.0          1.0   13.093         2\n",
       "2     47  0.0  0.0          1.0   10.114         2\n",
       "3     28  1.0  1.0          1.0    7.798         0\n",
       "4     61  1.0  0.0          1.0   18.043         3\n",
       "..   ...  ...  ...          ...      ...       ...\n",
       "187   56  1.0  0.0          1.0   11.567         2\n",
       "188   16  0.0  0.0          1.0   12.006         4\n",
       "189   52  0.0  1.0          1.0    9.894         2\n",
       "190   23  0.0  1.0          0.0   14.020         0\n",
       "191   40  1.0  0.0          0.0   11.349         1\n",
       "\n",
       "[192 rows x 6 columns]"
      ]
     },
     "execution_count": 436,
     "metadata": {},
     "output_type": "execute_result"
    }
   ],
   "source": [
    "X"
   ]
  },
  {
   "cell_type": "code",
   "execution_count": 437,
   "id": "e044aa1e",
   "metadata": {},
   "outputs": [
    {
     "name": "stdout",
     "output_type": "stream",
     "text": [
      "       Feature  Importance Score\n",
      "4      Na_to_K          0.526346\n",
      "2           BP          0.238792\n",
      "0          Age          0.124820\n",
      "3  Cholesterol          0.051096\n",
      "5     AgeGroup          0.043459\n",
      "1          Sex          0.015488\n"
     ]
    }
   ],
   "source": [
    "from sklearn.ensemble import RandomForestClassifier\n",
    "\n",
    "# Create a tree-based model\n",
    "model = RandomForestClassifier()\n",
    "\n",
    "# Fit the model to my data\n",
    "model.fit(X, y)\n",
    "\n",
    "# Get the feature importance scores\n",
    "importance_scores = model.feature_importances_\n",
    "\n",
    "# Create a DataFrame to display the feature importance scores\n",
    "feature_importance_df = pd.DataFrame({\n",
    "    \"Feature\": X.columns,\n",
    "    \"Importance Score\": importance_scores\n",
    "})\n",
    "\n",
    "# Sort the features by their importance scores\n",
    "feature_importance_df = feature_importance_df.sort_values(by=\"Importance Score\", ascending=False)\n",
    "\n",
    "# Print the feature importance scores\n",
    "print(feature_importance_df)\n"
   ]
  },
  {
   "cell_type": "code",
   "execution_count": 438,
   "id": "64fa070c",
   "metadata": {},
   "outputs": [
    {
     "data": {
      "text/plain": [
       "0      0\n",
       "1      3\n",
       "2      3\n",
       "3      4\n",
       "4      0\n",
       "      ..\n",
       "187    3\n",
       "188    3\n",
       "189    4\n",
       "190    4\n",
       "191    4\n",
       "Name: Drug, Length: 192, dtype: int32"
      ]
     },
     "execution_count": 438,
     "metadata": {},
     "output_type": "execute_result"
    }
   ],
   "source": [
    "y"
   ]
  },
  {
   "cell_type": "code",
   "execution_count": 439,
   "id": "9bdf9466",
   "metadata": {},
   "outputs": [],
   "source": [
    "X = drug[['Na_to_K','BP','Age']]"
   ]
  },
  {
   "cell_type": "code",
   "execution_count": 440,
   "id": "44c29dee",
   "metadata": {},
   "outputs": [
    {
     "data": {
      "text/plain": [
       "0      0\n",
       "1      3\n",
       "2      3\n",
       "3      4\n",
       "4      0\n",
       "      ..\n",
       "187    3\n",
       "188    3\n",
       "189    4\n",
       "190    4\n",
       "191    4\n",
       "Name: Drug, Length: 192, dtype: int32"
      ]
     },
     "execution_count": 440,
     "metadata": {},
     "output_type": "execute_result"
    }
   ],
   "source": [
    "y"
   ]
  },
  {
   "cell_type": "markdown",
   "id": "aed1cd1d",
   "metadata": {},
   "source": [
    "## Model Building and Evaluation"
   ]
  },
  {
   "cell_type": "code",
   "execution_count": 441,
   "id": "281b8363",
   "metadata": {},
   "outputs": [],
   "source": [
    "from sklearn.ensemble import RandomForestClassifier\n",
    "from sklearn.model_selection import train_test_split\n",
    "from sklearn.metrics import accuracy_score, precision_score, recall_score, f1_score\n",
    "\n",
    "X_train, X_test, y_train, y_test = train_test_split(X, y, test_size=0.2, random_state=42)"
   ]
  },
  {
   "cell_type": "code",
   "execution_count": 442,
   "id": "f8f04691",
   "metadata": {},
   "outputs": [
    {
     "data": {
      "text/html": [
       "<style>#sk-container-id-10 {color: black;background-color: white;}#sk-container-id-10 pre{padding: 0;}#sk-container-id-10 div.sk-toggleable {background-color: white;}#sk-container-id-10 label.sk-toggleable__label {cursor: pointer;display: block;width: 100%;margin-bottom: 0;padding: 0.3em;box-sizing: border-box;text-align: center;}#sk-container-id-10 label.sk-toggleable__label-arrow:before {content: \"▸\";float: left;margin-right: 0.25em;color: #696969;}#sk-container-id-10 label.sk-toggleable__label-arrow:hover:before {color: black;}#sk-container-id-10 div.sk-estimator:hover label.sk-toggleable__label-arrow:before {color: black;}#sk-container-id-10 div.sk-toggleable__content {max-height: 0;max-width: 0;overflow: hidden;text-align: left;background-color: #f0f8ff;}#sk-container-id-10 div.sk-toggleable__content pre {margin: 0.2em;color: black;border-radius: 0.25em;background-color: #f0f8ff;}#sk-container-id-10 input.sk-toggleable__control:checked~div.sk-toggleable__content {max-height: 200px;max-width: 100%;overflow: auto;}#sk-container-id-10 input.sk-toggleable__control:checked~label.sk-toggleable__label-arrow:before {content: \"▾\";}#sk-container-id-10 div.sk-estimator input.sk-toggleable__control:checked~label.sk-toggleable__label {background-color: #d4ebff;}#sk-container-id-10 div.sk-label input.sk-toggleable__control:checked~label.sk-toggleable__label {background-color: #d4ebff;}#sk-container-id-10 input.sk-hidden--visually {border: 0;clip: rect(1px 1px 1px 1px);clip: rect(1px, 1px, 1px, 1px);height: 1px;margin: -1px;overflow: hidden;padding: 0;position: absolute;width: 1px;}#sk-container-id-10 div.sk-estimator {font-family: monospace;background-color: #f0f8ff;border: 1px dotted black;border-radius: 0.25em;box-sizing: border-box;margin-bottom: 0.5em;}#sk-container-id-10 div.sk-estimator:hover {background-color: #d4ebff;}#sk-container-id-10 div.sk-parallel-item::after {content: \"\";width: 100%;border-bottom: 1px solid gray;flex-grow: 1;}#sk-container-id-10 div.sk-label:hover label.sk-toggleable__label {background-color: #d4ebff;}#sk-container-id-10 div.sk-serial::before {content: \"\";position: absolute;border-left: 1px solid gray;box-sizing: border-box;top: 0;bottom: 0;left: 50%;z-index: 0;}#sk-container-id-10 div.sk-serial {display: flex;flex-direction: column;align-items: center;background-color: white;padding-right: 0.2em;padding-left: 0.2em;position: relative;}#sk-container-id-10 div.sk-item {position: relative;z-index: 1;}#sk-container-id-10 div.sk-parallel {display: flex;align-items: stretch;justify-content: center;background-color: white;position: relative;}#sk-container-id-10 div.sk-item::before, #sk-container-id-10 div.sk-parallel-item::before {content: \"\";position: absolute;border-left: 1px solid gray;box-sizing: border-box;top: 0;bottom: 0;left: 50%;z-index: -1;}#sk-container-id-10 div.sk-parallel-item {display: flex;flex-direction: column;z-index: 1;position: relative;background-color: white;}#sk-container-id-10 div.sk-parallel-item:first-child::after {align-self: flex-end;width: 50%;}#sk-container-id-10 div.sk-parallel-item:last-child::after {align-self: flex-start;width: 50%;}#sk-container-id-10 div.sk-parallel-item:only-child::after {width: 0;}#sk-container-id-10 div.sk-dashed-wrapped {border: 1px dashed gray;margin: 0 0.4em 0.5em 0.4em;box-sizing: border-box;padding-bottom: 0.4em;background-color: white;}#sk-container-id-10 div.sk-label label {font-family: monospace;font-weight: bold;display: inline-block;line-height: 1.2em;}#sk-container-id-10 div.sk-label-container {text-align: center;}#sk-container-id-10 div.sk-container {/* jupyter's `normalize.less` sets `[hidden] { display: none; }` but bootstrap.min.css set `[hidden] { display: none !important; }` so we also need the `!important` here to be able to override the default hidden behavior on the sphinx rendered scikit-learn.org. See: https://github.com/scikit-learn/scikit-learn/issues/21755 */display: inline-block !important;position: relative;}#sk-container-id-10 div.sk-text-repr-fallback {display: none;}</style><div id=\"sk-container-id-10\" class=\"sk-top-container\"><div class=\"sk-text-repr-fallback\"><pre>RandomForestClassifier()</pre><b>In a Jupyter environment, please rerun this cell to show the HTML representation or trust the notebook. <br />On GitHub, the HTML representation is unable to render, please try loading this page with nbviewer.org.</b></div><div class=\"sk-container\" hidden><div class=\"sk-item\"><div class=\"sk-estimator sk-toggleable\"><input class=\"sk-toggleable__control sk-hidden--visually\" id=\"sk-estimator-id-10\" type=\"checkbox\" checked><label for=\"sk-estimator-id-10\" class=\"sk-toggleable__label sk-toggleable__label-arrow\">RandomForestClassifier</label><div class=\"sk-toggleable__content\"><pre>RandomForestClassifier()</pre></div></div></div></div></div>"
      ],
      "text/plain": [
       "RandomForestClassifier()"
      ]
     },
     "execution_count": 442,
     "metadata": {},
     "output_type": "execute_result"
    }
   ],
   "source": [
    "# Random Forest model\n",
    "rfc = RandomForestClassifier()\n",
    "rfc.fit(X_train, y_train)"
   ]
  },
  {
   "cell_type": "code",
   "execution_count": 443,
   "id": "5c2bac0a",
   "metadata": {},
   "outputs": [
    {
     "name": "stdout",
     "output_type": "stream",
     "text": [
      "[1 0 0 4 4 3 0 3 3 0 3 0 4 1 3 2 1 2 4 0 1 4 0 1 0 1 0 0 1 4 4 3 0 0 0 4 1\n",
      " 1 4]\n"
     ]
    }
   ],
   "source": [
    "# predict using RandomForest\n",
    "y_pred = rfc.predict(X_test)\n",
    "print(y_pred)"
   ]
  },
  {
   "cell_type": "code",
   "execution_count": 444,
   "id": "cd67abdc",
   "metadata": {},
   "outputs": [
    {
     "name": "stdout",
     "output_type": "stream",
     "text": [
      "Accuracy:  0.8717948717948718\n",
      "Precision:  0.8444444444444444\n",
      "Recall:  0.8717948717948717\n",
      "F1-Score:  0.8118716577540107\n",
      "              precision    recall  f1-score   support\n",
      "\n",
      "           0       1.00      1.00      1.00        13\n",
      "           1       0.89      1.00      0.94         8\n",
      "           2       1.00      0.67      0.80         3\n",
      "           3       0.33      1.00      0.50         2\n",
      "           4       1.00      0.69      0.82        13\n",
      "\n",
      "    accuracy                           0.87        39\n",
      "   macro avg       0.84      0.87      0.81        39\n",
      "weighted avg       0.94      0.87      0.89        39\n",
      "\n",
      "Cross-Validation Scores: [0.92307692 0.94871795 0.94736842 0.92105263 0.89473684]\n",
      "Cross-Validation Scores Mean: 0.9269905533063427\n"
     ]
    }
   ],
   "source": [
    "# evaluation of the RandomForest model with Accuracy, Precision, Recall and F1-Score + a classification report\n",
    "\n",
    "print('Accuracy: ', accuracy_score(y_test, y_pred))\n",
    "print('Precision: ', precision_score(y_test, y_pred, average='macro'))\n",
    "print('Recall: ', recall_score(y_test, y_pred, average='macro'))\n",
    "print('F1-Score: ', f1_score(y_test, y_pred, average='macro'))\n",
    "\n",
    "print(classification_report(y_test, y_pred))\n",
    "\n",
    "from sklearn.model_selection import cross_val_score\n",
    "\n",
    "# Perform cross-validation\n",
    "scores = cross_val_score(rfc, X, y, cv=5)  # cv=5 for 5-fold cross-validation\n",
    "\n",
    "# Print the cross-validation scores\n",
    "print(\"Cross-Validation Scores:\", scores)\n",
    "print(\"Cross-Validation Scores Mean:\", scores.mean())"
   ]
  },
  {
   "cell_type": "code",
   "execution_count": 445,
   "id": "bf452bc8",
   "metadata": {},
   "outputs": [
    {
     "data": {
      "text/html": [
       "<style>#sk-container-id-11 {color: black;background-color: white;}#sk-container-id-11 pre{padding: 0;}#sk-container-id-11 div.sk-toggleable {background-color: white;}#sk-container-id-11 label.sk-toggleable__label {cursor: pointer;display: block;width: 100%;margin-bottom: 0;padding: 0.3em;box-sizing: border-box;text-align: center;}#sk-container-id-11 label.sk-toggleable__label-arrow:before {content: \"▸\";float: left;margin-right: 0.25em;color: #696969;}#sk-container-id-11 label.sk-toggleable__label-arrow:hover:before {color: black;}#sk-container-id-11 div.sk-estimator:hover label.sk-toggleable__label-arrow:before {color: black;}#sk-container-id-11 div.sk-toggleable__content {max-height: 0;max-width: 0;overflow: hidden;text-align: left;background-color: #f0f8ff;}#sk-container-id-11 div.sk-toggleable__content pre {margin: 0.2em;color: black;border-radius: 0.25em;background-color: #f0f8ff;}#sk-container-id-11 input.sk-toggleable__control:checked~div.sk-toggleable__content {max-height: 200px;max-width: 100%;overflow: auto;}#sk-container-id-11 input.sk-toggleable__control:checked~label.sk-toggleable__label-arrow:before {content: \"▾\";}#sk-container-id-11 div.sk-estimator input.sk-toggleable__control:checked~label.sk-toggleable__label {background-color: #d4ebff;}#sk-container-id-11 div.sk-label input.sk-toggleable__control:checked~label.sk-toggleable__label {background-color: #d4ebff;}#sk-container-id-11 input.sk-hidden--visually {border: 0;clip: rect(1px 1px 1px 1px);clip: rect(1px, 1px, 1px, 1px);height: 1px;margin: -1px;overflow: hidden;padding: 0;position: absolute;width: 1px;}#sk-container-id-11 div.sk-estimator {font-family: monospace;background-color: #f0f8ff;border: 1px dotted black;border-radius: 0.25em;box-sizing: border-box;margin-bottom: 0.5em;}#sk-container-id-11 div.sk-estimator:hover {background-color: #d4ebff;}#sk-container-id-11 div.sk-parallel-item::after {content: \"\";width: 100%;border-bottom: 1px solid gray;flex-grow: 1;}#sk-container-id-11 div.sk-label:hover label.sk-toggleable__label {background-color: #d4ebff;}#sk-container-id-11 div.sk-serial::before {content: \"\";position: absolute;border-left: 1px solid gray;box-sizing: border-box;top: 0;bottom: 0;left: 50%;z-index: 0;}#sk-container-id-11 div.sk-serial {display: flex;flex-direction: column;align-items: center;background-color: white;padding-right: 0.2em;padding-left: 0.2em;position: relative;}#sk-container-id-11 div.sk-item {position: relative;z-index: 1;}#sk-container-id-11 div.sk-parallel {display: flex;align-items: stretch;justify-content: center;background-color: white;position: relative;}#sk-container-id-11 div.sk-item::before, #sk-container-id-11 div.sk-parallel-item::before {content: \"\";position: absolute;border-left: 1px solid gray;box-sizing: border-box;top: 0;bottom: 0;left: 50%;z-index: -1;}#sk-container-id-11 div.sk-parallel-item {display: flex;flex-direction: column;z-index: 1;position: relative;background-color: white;}#sk-container-id-11 div.sk-parallel-item:first-child::after {align-self: flex-end;width: 50%;}#sk-container-id-11 div.sk-parallel-item:last-child::after {align-self: flex-start;width: 50%;}#sk-container-id-11 div.sk-parallel-item:only-child::after {width: 0;}#sk-container-id-11 div.sk-dashed-wrapped {border: 1px dashed gray;margin: 0 0.4em 0.5em 0.4em;box-sizing: border-box;padding-bottom: 0.4em;background-color: white;}#sk-container-id-11 div.sk-label label {font-family: monospace;font-weight: bold;display: inline-block;line-height: 1.2em;}#sk-container-id-11 div.sk-label-container {text-align: center;}#sk-container-id-11 div.sk-container {/* jupyter's `normalize.less` sets `[hidden] { display: none; }` but bootstrap.min.css set `[hidden] { display: none !important; }` so we also need the `!important` here to be able to override the default hidden behavior on the sphinx rendered scikit-learn.org. See: https://github.com/scikit-learn/scikit-learn/issues/21755 */display: inline-block !important;position: relative;}#sk-container-id-11 div.sk-text-repr-fallback {display: none;}</style><div id=\"sk-container-id-11\" class=\"sk-top-container\"><div class=\"sk-text-repr-fallback\"><pre>LogisticRegression()</pre><b>In a Jupyter environment, please rerun this cell to show the HTML representation or trust the notebook. <br />On GitHub, the HTML representation is unable to render, please try loading this page with nbviewer.org.</b></div><div class=\"sk-container\" hidden><div class=\"sk-item\"><div class=\"sk-estimator sk-toggleable\"><input class=\"sk-toggleable__control sk-hidden--visually\" id=\"sk-estimator-id-11\" type=\"checkbox\" checked><label for=\"sk-estimator-id-11\" class=\"sk-toggleable__label sk-toggleable__label-arrow\">LogisticRegression</label><div class=\"sk-toggleable__content\"><pre>LogisticRegression()</pre></div></div></div></div></div>"
      ],
      "text/plain": [
       "LogisticRegression()"
      ]
     },
     "execution_count": 445,
     "metadata": {},
     "output_type": "execute_result"
    }
   ],
   "source": [
    "# LogisticRegression model\n",
    "lr = LogisticRegression()\n",
    "lr.fit(X_train, y_train)"
   ]
  },
  {
   "cell_type": "code",
   "execution_count": 446,
   "id": "dbc28b8e",
   "metadata": {},
   "outputs": [
    {
     "name": "stdout",
     "output_type": "stream",
     "text": [
      "[1 0 0 4 4 3 1 3 4 0 3 0 4 1 4 2 1 2 4 0 1 4 0 1 0 1 0 0 1 4 4 4 0 0 0 4 2\n",
      " 1 4]\n"
     ]
    }
   ],
   "source": [
    "# predict using LogisticRegression\n",
    "y_pred = lr.predict(X_test)\n",
    "print(y_pred)"
   ]
  },
  {
   "cell_type": "code",
   "execution_count": 447,
   "id": "22971617",
   "metadata": {},
   "outputs": [
    {
     "name": "stdout",
     "output_type": "stream",
     "text": [
      "Accuracy:  0.8974358974358975\n",
      "Precision:  0.8277777777777778\n",
      "Recall:  0.8538461538461538\n",
      "F1-Score:  0.8362352941176472\n",
      "              precision    recall  f1-score   support\n",
      "\n",
      "           0       1.00      0.92      0.96        13\n",
      "           1       0.89      1.00      0.94         8\n",
      "           2       1.00      1.00      1.00         3\n",
      "           3       0.33      0.50      0.40         2\n",
      "           4       0.92      0.85      0.88        13\n",
      "\n",
      "    accuracy                           0.90        39\n",
      "   macro avg       0.83      0.85      0.84        39\n",
      "weighted avg       0.92      0.90      0.90        39\n",
      "\n",
      "Cross-Validation Scores: [0.82051282 0.92307692 0.89473684 0.78947368 0.84210526]\n",
      "Cross-Validation Scores Mean: 0.8539811066126856\n"
     ]
    }
   ],
   "source": [
    "# evaluation of the LogisticRegression model\n",
    "\n",
    "print('Accuracy: ', accuracy_score(y_test, y_pred))\n",
    "print('Precision: ', precision_score(y_test, y_pred, average='macro'))\n",
    "print('Recall: ', recall_score(y_test, y_pred, average='macro'))\n",
    "print('F1-Score: ', f1_score(y_test, y_pred, average='macro'))\n",
    "\n",
    "print(classification_report(y_test, y_pred))\n",
    "\n",
    "from sklearn.model_selection import cross_val_score\n",
    "\n",
    "# Perform cross-validation\n",
    "scores = cross_val_score(lr, X, y, cv=5)  # cv=5 for 5-fold cross-validation\n",
    "\n",
    "# Print the cross-validation scores\n",
    "print(\"Cross-Validation Scores:\", scores)\n",
    "print(\"Cross-Validation Scores Mean:\", scores.mean())"
   ]
  },
  {
   "cell_type": "code",
   "execution_count": 448,
   "id": "14db2186",
   "metadata": {},
   "outputs": [
    {
     "name": "stdout",
     "output_type": "stream",
     "text": [
      "New Best Model Selected:\n",
      "Classifier: Random Forest\n",
      "Best Hyperparameters: {'max_depth': 10, 'min_samples_split': 2, 'n_estimators': 200}\n",
      "Best Score: 0.9215924426450741\n",
      "\n"
     ]
    },
    {
     "name": "stderr",
     "output_type": "stream",
     "text": [
      "C:\\Users\\HP\\anaconda3\\lib\\site-packages\\sklearn\\model_selection\\_validation.py:378: FitFailedWarning: \n",
      "15 fits failed out of a total of 30.\n",
      "The score on these train-test partitions for these parameters will be set to nan.\n",
      "If these failures are not expected, you can try to debug them by setting error_score='raise'.\n",
      "\n",
      "Below are more details about the failures:\n",
      "--------------------------------------------------------------------------------\n",
      "15 fits failed with the following error:\n",
      "Traceback (most recent call last):\n",
      "  File \"C:\\Users\\HP\\anaconda3\\lib\\site-packages\\sklearn\\model_selection\\_validation.py\", line 686, in _fit_and_score\n",
      "    estimator.fit(X_train, y_train, **fit_params)\n",
      "  File \"C:\\Users\\HP\\anaconda3\\lib\\site-packages\\sklearn\\linear_model\\_logistic.py\", line 1162, in fit\n",
      "    solver = _check_solver(self.solver, self.penalty, self.dual)\n",
      "  File \"C:\\Users\\HP\\anaconda3\\lib\\site-packages\\sklearn\\linear_model\\_logistic.py\", line 54, in _check_solver\n",
      "    raise ValueError(\n",
      "ValueError: Solver lbfgs supports only 'l2' or 'none' penalties, got l1 penalty.\n",
      "\n",
      "  warnings.warn(some_fits_failed_message, FitFailedWarning)\n",
      "C:\\Users\\HP\\anaconda3\\lib\\site-packages\\sklearn\\model_selection\\_search.py:952: UserWarning: One or more of the test scores are non-finite: [       nan 0.82807018        nan 0.85398111        nan 0.84871795]\n",
      "  warnings.warn(\n"
     ]
    }
   ],
   "source": [
    "# Define the classifiers and their respective parameter grids\n",
    "classifiers = [\n",
    "    ('Random Forest', RandomForestClassifier(), {\n",
    "        'n_estimators': [100, 200, 300],\n",
    "        'max_depth': [None, 5, 10],\n",
    "        'min_samples_split': [2, 5, 10]\n",
    "    }),\n",
    "    ('Logistic Regression', LogisticRegression(), {\n",
    "        'C': [0.1, 1.0, 10.0],\n",
    "        'penalty': ['l1', 'l2']\n",
    "    })\n",
    "]\n",
    "\n",
    "best_score = 0.0\n",
    "best_model = None\n",
    "\n",
    "# Iterate over the classifiers\n",
    "for name, clf, param_grid in classifiers:\n",
    "    # Create the GridSearchCV object for each classifier\n",
    "    grid_search = GridSearchCV(clf, param_grid, cv=5)\n",
    "    \n",
    "    # Perform grid search\n",
    "    grid_search.fit(X, y)\n",
    "    \n",
    "    # Check if the current model has a better score\n",
    "    if grid_search.best_score_ > best_score:\n",
    "        best_score = grid_search.best_score_\n",
    "        best_model = grid_search.best_estimator_\n",
    "        \n",
    "        print(\"New Best Model Selected:\")\n",
    "        print(\"Classifier:\", name)\n",
    "        print(\"Best Hyperparameters:\", grid_search.best_params_)\n",
    "        print(\"Best Score:\", best_score)\n",
    "        print()"
   ]
  },
  {
   "cell_type": "markdown",
   "id": "e52d085f",
   "metadata": {},
   "source": [
    "## Conclusion\n",
    "I have done as much as I've chould but ran out of time, If I had more time I'd try to evalute further and make it so that I can make a better model selection. I also would like to dig deeper in to these topics and learn more."
   ]
  },
  {
   "cell_type": "code",
   "execution_count": null,
   "id": "3ce8dce9",
   "metadata": {},
   "outputs": [],
   "source": []
  }
 ],
 "metadata": {
  "kernelspec": {
   "display_name": "Python 3 (ipykernel)",
   "language": "python",
   "name": "python3"
  },
  "language_info": {
   "codemirror_mode": {
    "name": "ipython",
    "version": 3
   },
   "file_extension": ".py",
   "mimetype": "text/x-python",
   "name": "python",
   "nbconvert_exporter": "python",
   "pygments_lexer": "ipython3",
   "version": "3.10.9"
  }
 },
 "nbformat": 4,
 "nbformat_minor": 5
}
